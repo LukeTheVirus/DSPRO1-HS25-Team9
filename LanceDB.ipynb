{
 "cells": [
  {
   "cell_type": "code",
   "execution_count": 8,
   "id": "deefae04",
   "metadata": {},
   "outputs": [],
   "source": [
    "import lancedb\n",
    "import pandas as pd\n",
    "import pyarrow as pa\n",
    "\n",
    "uri = \"data/sample-lancedb\"\n",
    "db = lancedb.connect(uri)"
   ]
  },
  {
   "cell_type": "code",
   "execution_count": 9,
   "id": "a9500b2b",
   "metadata": {},
   "outputs": [],
   "source": [
    "if \"my_table\" in db.table_names():\n",
    "    db.drop_table(\"my_table\")\n",
    "\n",
    "db.create_table(\n",
    "    \"my_table\",\n",
    "    schema=pa.schema(\n",
    "        [\n",
    "            (\"id\", pa.int32()),\n",
    "            (\"value\", pa.float32()),\n",
    "            (\"vector\", pa.list_(pa.float32(), 3)),\n",
    "        ]\n",
    "    ),\n",
    ")\n",
    "my_table = db.open_table(\"my_table\")"
   ]
  },
  {
   "cell_type": "code",
   "execution_count": 16,
   "id": "45798ac1",
   "metadata": {},
   "outputs": [
    {
     "name": "stdout",
     "output_type": "stream",
     "text": [
      "   id  value           vector\n",
      "0   1    0.1  [0.1, 0.2, 0.3]\n",
      "1   2    0.2  [0.4, 0.5, 0.6]\n",
      "2   3    0.3  [0.7, 0.8, 0.9]\n"
     ]
    }
   ],
   "source": [
    "my_table.add(\n",
    "    pd.DataFrame(\n",
    "        {\n",
    "            \"id\": [1, 2, 3],\n",
    "            \"value\": [0.1, 0.2, 0.3],\n",
    "            \"vector\": [[0.1, 0.2, 0.3], [0.4, 0.5, 0.6], [0.7, 0.8, 0.9]],\n",
    "        }\n",
    "    ),\n",
    "    mode=\"overwrite\"\n",
    ")\n",
    "print(my_table.to_pandas())"
   ]
  },
  {
   "cell_type": "code",
   "execution_count": 19,
   "id": "af788378",
   "metadata": {},
   "outputs": [
    {
     "name": "stdout",
     "output_type": "stream",
     "text": [
      "   id  value           vector  _distance\n",
      "0   2    0.2  [0.4, 0.5, 0.6]       0.29\n",
      "1   3    0.3  [0.7, 0.8, 0.9]       0.38\n"
     ]
    }
   ],
   "source": [
    "# Query by vector\n",
    "query_vector = [0.6, 0.9, 0.3]\n",
    "\n",
    "results = my_table.search(query_vector, \"vector\").limit(2).to_pandas()\n",
    "print(results)"
   ]
  }
 ],
 "metadata": {
  "kernelspec": {
   "display_name": ".venv",
   "language": "python",
   "name": "python3"
  },
  "language_info": {
   "codemirror_mode": {
    "name": "ipython",
    "version": 3
   },
   "file_extension": ".py",
   "mimetype": "text/x-python",
   "name": "python",
   "nbconvert_exporter": "python",
   "pygments_lexer": "ipython3",
   "version": "3.12.3"
  }
 },
 "nbformat": 4,
 "nbformat_minor": 5
}
